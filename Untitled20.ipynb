{
  "nbformat": 4,
  "nbformat_minor": 0,
  "metadata": {
    "colab": {
      "name": "Untitled20.ipynb",
      "provenance": [],
      "authorship_tag": "ABX9TyMnUJxKkucXOwhoEC4tXUkO",
      "include_colab_link": true
    },
    "kernelspec": {
      "name": "python3",
      "display_name": "Python 3"
    },
    "language_info": {
      "name": "python"
    }
  },
  "cells": [
    {
      "cell_type": "markdown",
      "metadata": {
        "id": "view-in-github",
        "colab_type": "text"
      },
      "source": [
        "<a href=\"https://colab.research.google.com/github/kakeoumarsam/Free-code-camp/blob/main/Untitled20.ipynb\" target=\"_parent\"><img src=\"https://colab.research.google.com/assets/colab-badge.svg\" alt=\"Open In Colab\"/></a>"
      ]
    },
    {
      "cell_type": "code",
      "execution_count": 4,
      "metadata": {
        "colab": {
          "base_uri": "https://localhost:8080/"
        },
        "id": "36ZF6N8FdIwk",
        "outputId": "c1846d94-8fb7-4053-9d10-c1481bba270f"
      },
      "outputs": [
        {
          "output_type": "stream",
          "name": "stdout",
          "text": [
            "{'Mean': (array([2., 5., 8.]), array([4., 5., 6.]), 5.0), 'Variance': (array([0.66666667, 0.66666667, 0.66666667]), array([6., 6., 6.]), 6.666666666666667), 'Ecart-Type': (array([0.81649658, 0.81649658, 0.81649658]), array([2.44948974, 2.44948974, 2.44948974]), 2.581988897471611), 'Maximum': (array([3, 6, 9]), array([7, 8, 9]), 9), 'Minimum': (array([1, 4, 7]), array([1, 2, 3]), 1), 'Somme': (array([ 6, 15, 24]), array([12, 15, 18]), 45)}\n"
          ]
        }
      ],
      "source": [
        "import numpy as np\n",
        "import statistics\n",
        "\n",
        "n1_plat=np.array([1,2,3,4,5,6,7,8,9])\n",
        "n2=n1_plat.reshape(3,3)\n",
        "calculate={}\n",
        "#axis=0 ce sont les colonnes et axis=1 ce sont les lignes\n",
        "M1=np.mean(n2,axis=1)\n",
        "M2=np.mean(n2,axis=0)\n",
        "M3=np.mean(n2)\n",
        "V1=np.var(n2,axis=1)\n",
        "V2=np.var(n2,axis=0)\n",
        "V3=np.var(n2)\n",
        "E1=np.std(n2,axis=1)\n",
        "E2=np.std(n2,axis=0)\n",
        "E3=np.std(n2)\n",
        "Ma1=np.max(n2,axis=1)\n",
        "Ma2=np.max(n2,axis=0)\n",
        "Ma3=np.max(n2)\n",
        "Mi1=np.min(n2,axis=1)\n",
        "Mi2=np.min(n2,axis=0)\n",
        "Mi3=np.min(n2)\n",
        "S1=np.sum(n2,axis=1)\n",
        "S2=np.sum(n2,axis=0)\n",
        "S3=np.sum(n2)\n",
        "\n",
        "calculate[\"Mean\"]=M1,M2,M3\n",
        "calculate[\"Variance\"]=V1,V2,V3\n",
        "calculate[\"Ecart-Type\"]=E1,E2,E3\n",
        "calculate[\"Maximum\"]=Ma1,Ma2,Ma3\n",
        "calculate[\"Minimum\"]=Mi1,Mi2,Mi3\n",
        "calculate[\"Somme\"]=S1,S2,S3\n",
        "\n",
        "print( calculate )"
      ]
    }
  ]
}